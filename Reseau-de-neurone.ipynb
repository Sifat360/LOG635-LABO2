{
 "cells": [
  {
   "cell_type": "code",
   "execution_count": 5,
   "metadata": {},
   "outputs": [],
   "source": [
    "import numpy as np"
   ]
  },
  {
   "cell_type": "code",
   "execution_count": 23,
   "metadata": {},
   "outputs": [],
   "source": [
    "sigmoid = lambda x : 1/(1 + np.exp(-x))\n",
    "gradient = lambda gz : gz * (1 - gz)"
   ]
  },
  {
   "cell_type": "code",
   "execution_count": 28,
   "metadata": {},
   "outputs": [],
   "source": [
    "def initialize(x,y):\n",
    "    # Initialise x with bias\n",
    "    x_nb_of_lines = x.shape[0]\n",
    "    m = x_nb_of_lines\n",
    "    bias = np.ones((x_nb_of_lines,1),dtype='int8')\n",
    "    a1 = np.hstack([bias,x])\n",
    "    \n",
    "    # Initialise y\n",
    "    y_unique_values_ar = np.unique(y) # find the distinct values of y\n",
    "    y_class = np.zeros((x_nb_of_lines, len(y_unique_values_ar)),dtype='int8')\n",
    "    for i in range(y_class.shape[0]):\n",
    "        y_class[i,np.where(y_unique_values_ar == y[i])[0][0]] = 1\n",
    "    \n",
    "    return a1,y_class,m"
   ]
  },
  {
   "cell_type": "code",
   "execution_count": 33,
   "metadata": {},
   "outputs": [],
   "source": [
    "def neural_network(x,y,theta1,theta2,sigmoid,gradient,alpha):\n",
    "    #---Initialisation---#\n",
    "    a1,y_class,m = initialize(x,y)\n",
    "    \n",
    "    #---Propagation---#\n",
    "    #z2\n",
    "    z2 = a1.dot(theta1)\n",
    "    \n",
    "    #a2\n",
    "    a2 = np.vectorize(sigmoid)(z2)\n",
    "    bias = np.ones((a2.shape[0],1),dtype='int8')\n",
    "    a2_bias = np.hstack([bias,a2])\n",
    "    \n",
    "    #z3\n",
    "    z3 = a2_bias.dot(theta2)\n",
    "    \n",
    "    #h\n",
    "    h = np.vectorize(sigmoid)(z3)\n",
    "    \n",
    "    #---Retropropagation---#\n",
    "    #delta3\n",
    "    delta3 = h - y_class\n",
    "    \n",
    "    #delta 2\n",
    "    theta2_retro = np.transpose(np.delete(theta2,0,0))\n",
    "    \n",
    "    ga2 = np.vectorize(gradient)(a2)\n",
    "    delta2 = delta3.dot(theta2_retro) * ga2\n",
    "    \n",
    "    #BigDelta\n",
    "    delta2_t = np.transpose(delta2)\n",
    "    delta3_t = np.transpose(delta3)\n",
    "    \n",
    "    bigDelta2 = np.transpose(np.matmul(delta3_t,a2_bias))\n",
    "    bigDelta1 = np.transpose(np.matmul(delta2_t,a1))\n",
    "    \n",
    "    #Weight update\n",
    "    theta1_adj = theta1 - (alpha*1/m*bigDelta1)\n",
    "    theta2_adj = theta2 - (alpha*1/m*bigDelta2)\n",
    "    \n",
    "    return theta1_adj,theta2_adj"
   ]
  },
  {
   "cell_type": "code",
   "execution_count": 54,
   "metadata": {},
   "outputs": [],
   "source": [
    "x = np.array([[3,8,1],[4,2,8],[1,3,1],[3,5,4],[7,5,3],[1,5,9]])\n",
    "y = np.array(['patate','patate','carrote','carrote','champignon','champignon'])\n",
    "theta1 = np.array([[-0.03,0.4],[-0.01,0.05],[-0.3,0.2],[0.4,-0.8]])\n",
    "theta2 = np.array([[0.2, -0.1, 0.8],[0.6,-0.6,0.2],[0.3,-0.3,0.3]])"
   ]
  },
  {
   "cell_type": "code",
   "execution_count": 56,
   "metadata": {},
   "outputs": [
    {
     "name": "stdout",
     "output_type": "stream",
     "text": [
      "[[-0.04305702  0.39123232]\n",
      " [-0.10124749 -0.01562256]\n",
      " [-0.37564886  0.15666005]\n",
      " [ 0.2939442  -0.82838417]] \n",
      "\n",
      " [[ 0.05265717 -0.12397624  0.60933444]\n",
      " [ 0.508513   -0.59286376  0.10834025]\n",
      " [ 0.2675425  -0.33290072  0.25843345]]\n"
     ]
    }
   ],
   "source": [
    "theta1,theta2 = fwd_propagation(x,y,theta1,theta2,sigmoid,gradient,0.25)\n",
    "print('%s \\n\\n %s'%(theta1,theta2))"
   ]
  },
  {
   "cell_type": "code",
   "execution_count": null,
   "metadata": {},
   "outputs": [],
   "source": []
  }
 ],
 "metadata": {
  "kernelspec": {
   "display_name": "Python 3",
   "language": "python",
   "name": "python3"
  },
  "language_info": {
   "codemirror_mode": {
    "name": "ipython",
    "version": 3
   },
   "file_extension": ".py",
   "mimetype": "text/x-python",
   "name": "python",
   "nbconvert_exporter": "python",
   "pygments_lexer": "ipython3",
   "version": "3.8.3"
  }
 },
 "nbformat": 4,
 "nbformat_minor": 4
}
